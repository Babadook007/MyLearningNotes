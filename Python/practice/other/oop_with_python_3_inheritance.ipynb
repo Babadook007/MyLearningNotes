{
 "cells": [
  {
   "cell_type": "code",
   "execution_count": 5,
   "metadata": {
    "collapsed": false
   },
   "outputs": [
    {
     "name": "stdout",
     "output_type": "stream",
     "text": [
      "100\n",
      "80\n",
      " total trans for class 2\n",
      "total accounts :  1\n",
      "500\n",
      "370\n",
      "300\n",
      " total trans for class 5\n",
      "total accounts :  2\n"
     ]
    }
   ],
   "source": [
    "\n",
    "class bankAcc:\n",
    "    totalTrans = 0\n",
    "    totalAcc = 0\n",
    "    \n",
    "    def __init__(self):\n",
    "        self.balance=0\n",
    "        bankAcc.totalAcc += 1        \n",
    "        \n",
    "    def credit(self,amt):\n",
    "        self.balance += amt\n",
    "        bankAcc.totalTrans += 1\n",
    "        return self.balance\n",
    "    \n",
    "    def debit(self,amt):\n",
    "        self.balance -= amt\n",
    "        bankAcc.totalTrans += 1\n",
    "        return self.balance\n",
    "    \n",
    "a = bankAcc()\n",
    "\n",
    "print a.credit(100)\n",
    "print a.debit(20)\n",
    "print \" total trans for class\", a.totalTrans\n",
    "print \"total accounts : \", a.totalAcc\n",
    "\n",
    "b = bankAcc()\n",
    "\n",
    "print b.credit(500)\n",
    "print b.debit(130)\n",
    "print b.debit(70)\n",
    "print \" total trans for class\", b.totalTrans\n",
    "print \"total accounts : \", b.totalAcc"
   ]
  },
  {
   "cell_type": "code",
   "execution_count": 6,
   "metadata": {
    "collapsed": false
   },
   "outputs": [
    {
     "name": "stdout",
     "output_type": "stream",
     "text": [
      "100\n",
      "maintain min bal!!!\n",
      "100\n",
      "60\n",
      " total trans for class 7\n",
      "total accounts :  3\n"
     ]
    }
   ],
   "source": [
    "# inheritance !!!\n",
    "class minBalAcc(bankAcc):\n",
    "    def __init__(self,minBal):\n",
    "        bankAcc.__init__(self)\n",
    "        self.minBal = minBal\n",
    "        \n",
    "    def debit(self,amt):\n",
    "        if self.balance - amt < self.minBal:\n",
    "            print (\"maintain min bal!!!\")\n",
    "        else:\n",
    "            bankAcc.debit(self,amt)\n",
    "        return self.balance\n",
    "            \n",
    "\n",
    "c = minBalAcc(50)\n",
    "print c.credit(100)\n",
    "print c.debit(60) # this will raise alert!\n",
    "print c.debit(40)\n",
    "print \" total trans for class\", b.totalTrans\n",
    "print \"total accounts : \", b.totalAcc            "
   ]
  }
 ],
 "metadata": {
  "kernelspec": {
   "display_name": "Python 2",
   "language": "python",
   "name": "python2"
  },
  "language_info": {
   "codemirror_mode": {
    "name": "ipython",
    "version": 2
   },
   "file_extension": ".py",
   "mimetype": "text/x-python",
   "name": "python",
   "nbconvert_exporter": "python",
   "pygments_lexer": "ipython2",
   "version": "2.7.12"
  }
 },
 "nbformat": 4,
 "nbformat_minor": 1
}
