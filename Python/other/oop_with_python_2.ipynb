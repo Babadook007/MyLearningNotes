{
 "cells": [
  {
   "cell_type": "code",
   "execution_count": 6,
   "metadata": {
    "collapsed": false
   },
   "outputs": [
    {
     "name": "stdout",
     "output_type": "stream",
     "text": [
      "clsPerson.__doc__ : Class documentation string or none, if undefined \n",
      "None\n",
      "clsPerson.__name__ :  Class name \n",
      "clsPerson\n",
      "clsPerson.__module__ : Module name in which the class is defined. This attribute is __main__ in interactive mode. \n",
      "__main__\n",
      "clsPerson.__bases__ : A possibly empty tuple containing the base classes, in the order of their occurrence in the base class list. \n",
      "()\n",
      "clsPerson.__dict__ : Dictionary containing the class's namespace \n",
      "{'__module__': '__main__', 'printPer': <function printPer at 0x7f9a9c16b0c8>, '__doc__': None, 'perCnt': 0, 'printCnt': <function printCnt at 0x7f9a9c16b050>, '__init__': <function __init__ at 0x7f9a9d2f5aa0>}\n"
     ]
    }
   ],
   "source": [
    "class clsPerson:\n",
    "    perCnt = 0\n",
    "    \n",
    "    def __init__(self, name, height):\n",
    "        self.name=name\n",
    "        self.height=height\n",
    "        clsPerson.perCnt += 1\n",
    "        \n",
    "    def printCnt(self):\n",
    "        print (\"printCnt : \", clsPerson.perCnt)\n",
    "        \n",
    "    def printPer(self):\n",
    "        print (\"printPer : \". self.name, \" and \", self.height)\n",
    "        \n",
    "\n",
    "print \"clsPerson.__doc__ : Class documentation string or none, if undefined \\n\", clsPerson.__doc__\n",
    "print \"clsPerson.__name__ :  Class name \\n\", clsPerson.__name__\n",
    "print \"clsPerson.__module__ : Module name in which the class is defined. This attribute is __main__ in interactive mode. \\n\", clsPerson.__module__\n",
    "print \"clsPerson.__bases__ : A possibly empty tuple containing the base classes, in the order of their occurrence in the base class list. \\n\", clsPerson.__bases__\n",
    "print \"clsPerson.__dict__ : Dictionary containing the class's namespace \\n\", clsPerson.__dict__\n"
   ]
  },
  {
   "cell_type": "code",
   "execution_count": null,
   "metadata": {
    "collapsed": true
   },
   "outputs": [],
   "source": [
    "\"\""
   ]
  }
 ],
 "metadata": {
  "kernelspec": {
   "display_name": "Python 2",
   "language": "python",
   "name": "python2"
  },
  "language_info": {
   "codemirror_mode": {
    "name": "ipython",
    "version": 2
   },
   "file_extension": ".py",
   "mimetype": "text/x-python",
   "name": "python",
   "nbconvert_exporter": "python",
   "pygments_lexer": "ipython2",
   "version": "2.7.12"
  }
 },
 "nbformat": 4,
 "nbformat_minor": 1
}
